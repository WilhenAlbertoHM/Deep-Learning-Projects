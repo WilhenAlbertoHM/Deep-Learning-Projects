{
 "cells": [
  {
   "cell_type": "code",
   "execution_count": 34,
   "metadata": {},
   "outputs": [],
   "source": [
    "from keras.models import Sequential\n",
    "from keras.preprocessing.image import ImageDataGenerator\n",
    "from keras.losses import CategoricalCrossentropy\n",
    "from keras.metrics import CategoricalAccuracy, AUC\n",
    "from keras.layers import Input, Dense, Conv2D, Flatten, MaxPooling2D\n",
    "from keras.optimizers import Adam\n",
    "from sklearn.metrics import classification_report, confusion_matrix\n",
    "import numpy as np"
   ]
  },
  {
   "cell_type": "code",
   "execution_count": 35,
   "metadata": {},
   "outputs": [
    {
     "name": "stdout",
     "output_type": "stream",
     "text": [
      "Found 251 images belonging to 3 classes.\n"
     ]
    },
    {
     "name": "stdout",
     "output_type": "stream",
     "text": [
      "Found 251 images belonging to 3 classes.\n"
     ]
    }
   ],
   "source": [
    "# Multi-class classification\n",
    "BATCH_SIZE = 32\n",
    "CLASS_MODE = \"categorical\"\n",
    "COLOR_MODE = \"grayscale\"\n",
    "DIRECTORY = \"Covid19-dataset/train\"\n",
    "\n",
    "# Load image data\n",
    "data_generator = ImageDataGenerator(\n",
    "    rescale=1./255, \n",
    "    zoom_range=0.1,\n",
    "    rotation_range=25, \n",
    "    width_shift_range=0.05, \n",
    "    height_shift_range=0.05)\n",
    "\n",
    "# Create iterable objects from data_generator\n",
    "train_iterator = data_generator.flow_from_directory(\n",
    "    DIRECTORY,\n",
    "    class_mode=CLASS_MODE,\n",
    "    color_mode=COLOR_MODE,\n",
    "    batch_size=BATCH_SIZE)\n",
    "\n",
    "validation_iterator = data_generator.flow_from_directory(\n",
    "    DIRECTORY,\n",
    "    class_mode=CLASS_MODE,\n",
    "    color_mode=COLOR_MODE,\n",
    "    batch_size=BATCH_SIZE)"
   ]
  },
  {
   "cell_type": "code",
   "execution_count": 36,
   "metadata": {},
   "outputs": [],
   "source": [
    "# Create model\n",
    "model = Sequential()\n",
    "model.add(Input(shape=(256, 256, 1)))\n",
    "model.add(Conv2D(5, 5, strides=2, activation=\"relu\"))\n",
    "model.add(MaxPooling2D(pool_size=(2, 2), strides=(2, 2)))\n",
    "model.add(Conv2D(3, 3, strides=1, activation=\"relu\"))\n",
    "model.add(MaxPooling2D(pool_size=(2, 2), strides=(2, 2)))\n",
    "model.add(Dense(64, activation=\"relu\"))\n",
    "model.add(Flatten())\n",
    "model.add(Dense(3, activation=\"softmax\"))"
   ]
  },
  {
   "cell_type": "code",
   "execution_count": 37,
   "metadata": {},
   "outputs": [
    {
     "name": "stdout",
     "output_type": "stream",
     "text": [
      "Epoch 1/10\n",
      "7/7 [==============================] - 2s 232ms/step - loss: 1.0862 - categorical_accuracy: 0.4821 - auc_5: 0.6517 - val_loss: 1.0507 - val_categorical_accuracy: 0.4701 - val_auc_5: 0.7287\n",
      "Epoch 2/10\n",
      "7/7 [==============================] - 2s 206ms/step - loss: 0.9811 - categorical_accuracy: 0.5219 - auc_5: 0.7739 - val_loss: 0.8669 - val_categorical_accuracy: 0.7530 - val_auc_5: 0.8973\n",
      "Epoch 3/10\n",
      "7/7 [==============================] - 2s 204ms/step - loss: 0.7344 - categorical_accuracy: 0.7649 - auc_5: 0.9208 - val_loss: 0.6051 - val_categorical_accuracy: 0.7371 - val_auc_5: 0.9270\n",
      "Epoch 4/10\n",
      "7/7 [==============================] - 2s 204ms/step - loss: 0.4932 - categorical_accuracy: 0.8566 - auc_5: 0.9618 - val_loss: 0.4071 - val_categorical_accuracy: 0.8645 - val_auc_5: 0.9713\n",
      "Epoch 5/10\n",
      "7/7 [==============================] - 2s 205ms/step - loss: 0.3896 - categorical_accuracy: 0.8446 - auc_5: 0.9630 - val_loss: 0.3251 - val_categorical_accuracy: 0.8526 - val_auc_5: 0.9747\n",
      "Epoch 6/10\n",
      "7/7 [==============================] - 2s 203ms/step - loss: 0.3160 - categorical_accuracy: 0.8924 - auc_5: 0.9753 - val_loss: 0.2547 - val_categorical_accuracy: 0.9163 - val_auc_5: 0.9862\n",
      "Epoch 7/10\n",
      "7/7 [==============================] - 2s 203ms/step - loss: 0.3268 - categorical_accuracy: 0.8685 - auc_5: 0.9702 - val_loss: 0.2494 - val_categorical_accuracy: 0.9203 - val_auc_5: 0.9833\n",
      "Epoch 8/10\n",
      "7/7 [==============================] - 2s 205ms/step - loss: 0.3045 - categorical_accuracy: 0.8685 - auc_5: 0.9735 - val_loss: 0.2931 - val_categorical_accuracy: 0.8725 - val_auc_5: 0.9763\n",
      "Epoch 9/10\n",
      "7/7 [==============================] - 2s 208ms/step - loss: 0.3053 - categorical_accuracy: 0.8964 - auc_5: 0.9721 - val_loss: 0.2704 - val_categorical_accuracy: 0.8924 - val_auc_5: 0.9799\n",
      "Epoch 10/10\n",
      "7/7 [==============================] - 2s 203ms/step - loss: 0.2304 - categorical_accuracy: 0.8924 - auc_5: 0.9865 - val_loss: 0.2868 - val_categorical_accuracy: 0.8765 - val_auc_5: 0.9766\n",
      "8/8 [==============================] - 1s 86ms/step - loss: 0.3153 - categorical_accuracy: 0.8645 - auc_5: 0.9721\n",
      "[0.31525224447250366, 0.8645418286323547, 0.9720718860626221]\n"
     ]
    }
   ],
   "source": [
    "# Compile and train model\n",
    "model.compile(loss=CategoricalCrossentropy(), \n",
    "              optimizer=Adam(learning_rate=0.001), \n",
    "              metrics=[CategoricalAccuracy(), AUC()])\n",
    "history = model.fit(train_iterator, \n",
    "          steps_per_epoch=train_iterator.samples/BATCH_SIZE,\n",
    "          epochs=10,\n",
    "          validation_data=validation_iterator,\n",
    "          validation_steps=validation_iterator.samples / BATCH_SIZE)\n",
    "\n",
    "# Evaluate model\n",
    "print(model.evaluate(validation_iterator))"
   ]
  },
  {
   "cell_type": "code",
   "execution_count": 38,
   "metadata": {},
   "outputs": [
    {
     "name": "stdout",
     "output_type": "stream",
     "text": [
      "8/8 [==============================] - 1s 84ms/step\n",
      "              precision    recall  f1-score   support\n",
      "\n",
      "       Covid       0.41      0.40      0.40       111\n",
      "      Normal       0.25      0.33      0.29        70\n",
      "   Pneumonia       0.28      0.21      0.24        70\n",
      "\n",
      "    accuracy                           0.33       251\n",
      "   macro avg       0.32      0.31      0.31       251\n",
      "weighted avg       0.33      0.33      0.33       251\n",
      "\n"
     ]
    }
   ],
   "source": [
    "# Print classification report\n",
    "test_steps_per_epoch = np.math.ceil(validation_iterator.samples / validation_iterator.batch_size)\n",
    "predictions = model.predict(validation_iterator, steps=test_steps_per_epoch)\n",
    "predicted_classes = np.argmax(predictions, axis=1)\n",
    "true_classes = validation_iterator.classes\n",
    "class_labels = list(validation_iterator.class_indices.keys())\n",
    "report = classification_report(true_classes, predicted_classes, target_names=class_labels)\n",
    "print(report) "
   ]
  },
  {
   "cell_type": "code",
   "execution_count": 39,
   "metadata": {},
   "outputs": [
    {
     "name": "stdout",
     "output_type": "stream",
     "text": [
      "[[44 43 24]\n",
      " [33 23 14]\n",
      " [30 25 15]]\n"
     ]
    }
   ],
   "source": [
    "confusion_matrix = confusion_matrix(true_classes, predicted_classes)\n",
    "print(confusion_matrix)"
   ]
  },
  {
   "cell_type": "code",
   "execution_count": 40,
   "metadata": {},
   "outputs": [
    {
     "name": "stdout",
     "output_type": "stream",
     "text": [
      "INFO:tensorflow:Assets written to: cnn_model\\assets\n"
     ]
    },
    {
     "name": "stderr",
     "output_type": "stream",
     "text": [
      "INFO:tensorflow:Assets written to: cnn_model\\assets\n"
     ]
    }
   ],
   "source": [
    "# Save model\n",
    "model.save(\"cnn_model\")"
   ]
  }
 ],
 "metadata": {
  "kernelspec": {
   "display_name": "Python 3",
   "language": "python",
   "name": "python3"
  },
  "language_info": {
   "codemirror_mode": {
    "name": "ipython",
    "version": 3
   },
   "file_extension": ".py",
   "mimetype": "text/x-python",
   "name": "python",
   "nbconvert_exporter": "python",
   "pygments_lexer": "ipython3",
   "version": "3.11.8"
  }
 },
 "nbformat": 4,
 "nbformat_minor": 2
}
