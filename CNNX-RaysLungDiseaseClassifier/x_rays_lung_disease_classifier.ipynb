{
 "cells": [
  {
   "cell_type": "code",
   "execution_count": 14,
   "metadata": {},
   "outputs": [],
   "source": [
    "from keras.models import Sequential\n",
    "from keras.preprocessing.image import ImageDataGenerator\n",
    "from keras.losses import CategoricalCrossentropy\n",
    "from keras.metrics import CategoricalAccuracy, AUC\n",
    "from keras.layers import Input, Dense, Conv2D, Flatten, MaxPooling2D\n",
    "from keras.optimizers import Adam"
   ]
  },
  {
   "cell_type": "code",
   "execution_count": 15,
   "metadata": {},
   "outputs": [
    {
     "name": "stdout",
     "output_type": "stream",
     "text": [
      "Found 251 images belonging to 3 classes.\n",
      "Found 251 images belonging to 3 classes.\n"
     ]
    }
   ],
   "source": [
    "# Multi-class classification\n",
    "\n",
    "BATCH_SIZE = 32\n",
    "CLASS_MODE = \"categorical\"\n",
    "COLOR_MODE = \"grayscale\"\n",
    "\n",
    "# Load image data\n",
    "data_generator = ImageDataGenerator(\n",
    "    rescale=1./255, \n",
    "    zoom_range=0.1,\n",
    "    rotation_range=25, \n",
    "    width_shift_range=0.05, \n",
    "    height_shift_range=0.05)\n",
    "\n",
    "# Create iterable objects from data_generator\n",
    "train_iterator = data_generator.flow_from_directory(\n",
    "    \"Covid19-dataset/train\",\n",
    "    class_mode=CLASS_MODE,\n",
    "    color_mode=COLOR_MODE,\n",
    "    batch_size=BATCH_SIZE)\n",
    "\n",
    "validation_iterator = data_generator.flow_from_directory(\n",
    "    \"Covid19-dataset/train\",\n",
    "    class_mode=CLASS_MODE,\n",
    "    color_mode=COLOR_MODE,\n",
    "    batch_size=BATCH_SIZE)"
   ]
  },
  {
   "cell_type": "code",
   "execution_count": 16,
   "metadata": {},
   "outputs": [],
   "source": [
    "# Create model\n",
    "model = Sequential()\n",
    "model.add(Input(shape=(256, 256, 1)))\n",
    "model.add(Conv2D(5, 5, strides=2, activation=\"relu\"))\n",
    "model.add(MaxPooling2D(pool_size=(2, 2), strides=(2, 2)))\n",
    "model.add(Conv2D(3, 3, strides=1, activation=\"relu\"))\n",
    "model.add(MaxPooling2D(pool_size=(2, 2), strides=(2, 2)))\n",
    "model.add(Dense(64, activation=\"relu\"))\n",
    "model.add(Flatten())\n",
    "model.add(Dense(3, activation=\"softmax\"))"
   ]
  },
  {
   "cell_type": "code",
   "execution_count": 17,
   "metadata": {},
   "outputs": [
    {
     "name": "stderr",
     "output_type": "stream",
     "text": [
      "WARNING:absl:`lr` is deprecated in Keras optimizer, please use `learning_rate` or use the legacy optimizer, e.g.,tf.keras.optimizers.legacy.Adam.\n"
     ]
    },
    {
     "name": "stdout",
     "output_type": "stream",
     "text": [
      "Epoch 1/10\n",
      "7/7 [==============================] - 2s 237ms/step - loss: 1.0783 - categorical_accuracy: 0.4143 - auc_4: 0.6118 - val_loss: 0.9962 - val_categorical_accuracy: 0.4821 - val_auc_4: 0.7271\n",
      "Epoch 2/10\n",
      "7/7 [==============================] - 2s 203ms/step - loss: 0.8963 - categorical_accuracy: 0.6175 - auc_4: 0.8089 - val_loss: 0.7481 - val_categorical_accuracy: 0.7092 - val_auc_4: 0.8872\n",
      "Epoch 3/10\n",
      "7/7 [==============================] - 1s 200ms/step - loss: 0.6395 - categorical_accuracy: 0.7610 - auc_4: 0.9178 - val_loss: 0.5536 - val_categorical_accuracy: 0.7649 - val_auc_4: 0.9193\n",
      "Epoch 4/10\n",
      "7/7 [==============================] - 2s 205ms/step - loss: 0.4758 - categorical_accuracy: 0.8167 - auc_4: 0.9395 - val_loss: 0.3960 - val_categorical_accuracy: 0.8486 - val_auc_4: 0.9561\n",
      "Epoch 5/10\n",
      "7/7 [==============================] - 2s 201ms/step - loss: 0.3649 - categorical_accuracy: 0.8685 - auc_4: 0.9634 - val_loss: 0.3791 - val_categorical_accuracy: 0.8406 - val_auc_4: 0.9595\n",
      "Epoch 6/10\n",
      "7/7 [==============================] - 2s 207ms/step - loss: 0.4215 - categorical_accuracy: 0.8367 - auc_4: 0.9508 - val_loss: 0.4101 - val_categorical_accuracy: 0.8327 - val_auc_4: 0.9539\n",
      "Epoch 7/10\n",
      "7/7 [==============================] - 2s 206ms/step - loss: 0.3691 - categorical_accuracy: 0.8645 - auc_4: 0.9606 - val_loss: 0.2929 - val_categorical_accuracy: 0.9044 - val_auc_4: 0.9767\n",
      "Epoch 8/10\n",
      "7/7 [==============================] - 2s 203ms/step - loss: 0.3997 - categorical_accuracy: 0.8446 - auc_4: 0.9571 - val_loss: 0.3939 - val_categorical_accuracy: 0.8406 - val_auc_4: 0.9564\n",
      "Epoch 9/10\n",
      "7/7 [==============================] - 1s 200ms/step - loss: 0.3499 - categorical_accuracy: 0.8526 - auc_4: 0.9679 - val_loss: 0.3042 - val_categorical_accuracy: 0.9004 - val_auc_4: 0.9773\n",
      "Epoch 10/10\n",
      "7/7 [==============================] - 2s 202ms/step - loss: 0.2996 - categorical_accuracy: 0.9004 - auc_4: 0.9782 - val_loss: 0.3152 - val_categorical_accuracy: 0.8805 - val_auc_4: 0.9736\n",
      "8/8 [==============================] - 1s 84ms/step - loss: 0.2592 - categorical_accuracy: 0.9163 - auc_4: 0.9856\n",
      "[0.2591843903064728, 0.9163346886634827, 0.9855756163597107]\n"
     ]
    }
   ],
   "source": [
    "# Compile and train model\n",
    "model.compile(loss=CategoricalCrossentropy(), \n",
    "              optimizer=Adam(learning_rate=0.001), \n",
    "              metrics=[CategoricalAccuracy(), AUC()])\n",
    "model.fit(train_iterator, \n",
    "          steps_per_epoch=train_iterator.samples/BATCH_SIZE,\n",
    "          epochs=10,\n",
    "          validation_data=validation_iterator,\n",
    "          validation_steps=validation_iterator.samples / BATCH_SIZE)\n",
    "\n",
    "# Evaluate model\n",
    "print(model.evaluate(validation_iterator))"
   ]
  }
 ],
 "metadata": {
  "kernelspec": {
   "display_name": "Python 3",
   "language": "python",
   "name": "python3"
  },
  "language_info": {
   "codemirror_mode": {
    "name": "ipython",
    "version": 3
   },
   "file_extension": ".py",
   "mimetype": "text/x-python",
   "name": "python",
   "nbconvert_exporter": "python",
   "pygments_lexer": "ipython3",
   "version": "3.11.7"
  }
 },
 "nbformat": 4,
 "nbformat_minor": 2
}
